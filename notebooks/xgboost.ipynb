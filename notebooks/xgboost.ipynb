{
 "cells": [
  {
   "cell_type": "code",
   "execution_count": 1,
   "metadata": {},
   "outputs": [],
   "source": [
    "# credits: https://towardsdatascience.com/pyspark-and-xgboost-integration-tested-on-the-kaggle-titanic-dataset-4e75a568bdb"
   ]
  },
  {
   "cell_type": "code",
   "execution_count": 2,
   "metadata": {},
   "outputs": [
    {
     "name": "stdout",
     "output_type": "stream",
     "text": [
      "/home/hantoine/Documents/Cours/Concordia/2019-Winter/SOEN_691_Big_Data_Analytics/project/accident-prediction-montreal\n"
     ]
    }
   ],
   "source": [
    "cd .."
   ]
  },
  {
   "cell_type": "code",
   "execution_count": 3,
   "metadata": {},
   "outputs": [],
   "source": [
    "from pyspark.sql import SparkSession\n",
    "from pyspark.ml import Pipeline\n",
    "from pyspark.sql.types import *\n",
    "from pyspark.sql.functions import col\n",
    "import numpy as np\n",
    "from pyspark.ml.feature import StringIndexer, VectorAssembler\n",
    "import os\n",
    "from utils import init_spark\n",
    "from preprocess import get_positive_samples, \\\n",
    "                       get_negative_samples, \\\n",
    "                       get_dataset_df\n",
    "os.environ['PYSPARK_SUBMIT_ARGS'] = '--jars data/xgboost4j-spark-0.72.jar,data/xgboost4j-0.72.jar pyspark-shell'"
   ]
  },
  {
   "cell_type": "code",
   "execution_count": 4,
   "metadata": {},
   "outputs": [
    {
     "name": "stdout",
     "output_type": "stream",
     "text": [
      "Spark Session created\n",
      "Parameters:\n",
      "\tspark.driver.extraClassPath: ./data/xgboost4j-spark-0.72.jar:./data/xgboost4j-0.72.jar\n",
      "\tspark.network.timeout: 300s\n",
      "\tspark.master: local[10]\n",
      "\tspark.executor.id: driver\n",
      "\tspark.driver.port: 46015\n",
      "\tspark.driver.host: laptop-hantoine.wireless.concordia.ca\n",
      "\tspark.cleaner.periodicGC.interval: 5min\n",
      "\tspark.app.name: Accident prediction\n",
      "\tspark.serializer: org.apache.spark.serializer.KryoSerializer\n",
      "\tspark.driver.memory: 6g\n",
      "\tspark.rdd.compress: True\n",
      "\tspark.app.id: local-1556568635624\n",
      "\tspark.serializer.objectStreamReset: 100\n",
      "\tspark.submit.deployMode: client\n",
      "\tspark.ui.showConsoleProgress: true\n",
      "\tspark.jars: file:///home/hantoine/Documents/Cours/Concordia/2019-Winter/SOEN_691_Big_Data_Analytics/project/accident-prediction-montreal/data/xgboost4j-spark-0.72.jar,file:///home/hantoine/Documents/Cours/Concordia/2019-Winter/SOEN_691_Big_Data_Analytics/project/accident-prediction-montreal/data/xgboost4j-0.72.jar\n",
      "\tspark.repl.local.jars: file:///home/hantoine/Documents/Cours/Concordia/2019-Winter/SOEN_691_Big_Data_Analytics/project/accident-prediction-montreal/data/xgboost4j-spark-0.72.jar,file:///home/hantoine/Documents/Cours/Concordia/2019-Winter/SOEN_691_Big_Data_Analytics/project/accident-prediction-montreal/data/xgboost4j-0.72.jar\n"
     ]
    }
   ],
   "source": [
    "spark = init_spark()\n",
    "spark.sparkContext.addPyFile(\"data/sparkxgb.zip\")\n",
    "from sparkxgb import XGBoostEstimator"
   ]
  },
  {
   "cell_type": "code",
   "execution_count": 5,
   "metadata": {},
   "outputs": [
    {
     "data": {
      "text/plain": [
       "(2318466, 134489)"
      ]
     },
     "execution_count": 5,
     "metadata": {},
     "output_type": "execute_result"
    }
   ],
   "source": [
    "# load dataset\n",
    "neg_samples = get_negative_samples(spark).sample(0.5).na.fill(-999)\n",
    "pos_samples = get_positive_samples(spark).sample(1.0).na.fill(-999)\n",
    "(neg_samples.count(), pos_samples.count())"
   ]
  },
  {
   "cell_type": "code",
   "execution_count": 6,
   "metadata": {},
   "outputs": [],
   "source": [
    "imbalance_ratio = neg_samples.count()/pos_samples.count()"
   ]
  },
  {
   "cell_type": "code",
   "execution_count": 7,
   "metadata": {},
   "outputs": [
    {
     "name": "stdout",
     "output_type": "stream",
     "text": [
      "Skip extracting road features: already done\n"
     ]
    }
   ],
   "source": [
    "train, test = get_dataset_df(spark, pos_samples, neg_samples)"
   ]
  },
  {
   "cell_type": "code",
   "execution_count": 14,
   "metadata": {},
   "outputs": [],
   "source": [
    "#create xgboost estimator\n",
    "xgboost = XGBoostEstimator(\n",
    "    featuresCol=\"features\", \n",
    "    labelCol=\"label\", \n",
    "    predictionCol=\"prediction\",\n",
    "    scale_pos_weight=imbalance_ratio,\n",
    "    max_depth=30,\n",
    "    eta=0.27,\n",
    "    gamma=45.0,\n",
    "    subsample=1.0,\n",
    "    colsample_bytree=0.95,\n",
    "    alpha=0.6\n",
    ")"
   ]
  },
  {
   "cell_type": "code",
   "execution_count": 15,
   "metadata": {},
   "outputs": [],
   "source": [
    "model = xgboost.fit(train)"
   ]
  },
  {
   "cell_type": "code",
   "execution_count": 16,
   "metadata": {},
   "outputs": [],
   "source": [
    "from pyspark.sql.functions import col\n",
    "test_pred = (model\n",
    "             .transform(test)\n",
    "             .withColumn('rawPrediction',\n",
    "                         col('probabilities'))\n",
    "             .withColumnRenamed('probabilities',\n",
    "                                'probability'))\n",
    "train_pred = (model\n",
    "              .transform(train)\n",
    "              .withColumn('rawPrediction',\n",
    "                          col('probabilities'))\n",
    "              .withColumnRenamed('probabilities',\n",
    "                                 'probability'))"
   ]
  },
  {
   "cell_type": "code",
   "execution_count": 17,
   "metadata": {
    "scrolled": false
   },
   "outputs": [
    {
     "name": "stdout",
     "output_type": "stream",
     "text": [
      "Area Under PR = 0.5261814470035253\n",
      "Area Under ROC = 0.909525275356034\n",
      "Area Under PR = 0.6714504302062363\n",
      "Area Under ROC = 0.977258305926859\n"
     ]
    }
   ],
   "source": [
    "from export_results import *\n",
    "result_dir = create_result_dir('xgb')\n",
    "write_params(model, neg_samples.count(), result_dir)\n",
    "write_results(test_pred, train_pred, result_dir)"
   ]
  }
 ],
 "metadata": {
  "kernelspec": {
   "display_name": "accident-prediction-montreal",
   "language": "python",
   "name": "accident-prediction-montreal"
  },
  "language_info": {
   "codemirror_mode": {
    "name": "ipython",
    "version": 3
   },
   "file_extension": ".py",
   "mimetype": "text/x-python",
   "name": "python",
   "nbconvert_exporter": "python",
   "pygments_lexer": "ipython3",
   "version": "3.7.2"
  }
 },
 "nbformat": 4,
 "nbformat_minor": 2
}
