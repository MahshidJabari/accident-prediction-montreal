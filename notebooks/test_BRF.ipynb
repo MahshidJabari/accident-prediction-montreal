{
 "cells": [
  {
   "cell_type": "code",
   "execution_count": 1,
   "metadata": {},
   "outputs": [
    {
     "name": "stdout",
     "output_type": "stream",
     "text": [
      "/home/hantoine/Documents/Cours/Concordia/2019-Winter/SOEN_691_Big_Data_Analytics/project/accident-prediction-montreal\n"
     ]
    }
   ],
   "source": [
    "cd .."
   ]
  },
  {
   "cell_type": "code",
   "execution_count": 2,
   "metadata": {},
   "outputs": [],
   "source": [
    "from imblearn.datasets import fetch_datasets\n",
    "from sklearn.model_selection import train_test_split\n",
    "\n",
    "satimage = fetch_datasets()['mammography']\n",
    "X, y = satimage.data, satimage.target\n",
    "X_train, X_test, y_train, y_test = train_test_split(X, y, stratify=y,\n",
    "                                                    random_state=0)"
   ]
  },
  {
   "cell_type": "code",
   "execution_count": 4,
   "metadata": {},
   "outputs": [
    {
     "name": "stdout",
     "output_type": "stream",
     "text": [
      "(10923, 260)\n",
      "42.011538461538464\n",
      "2.3802984528060054%\n"
     ]
    }
   ],
   "source": [
    "sum = __builtin__.sum\n",
    "imbalance_ratio = sum(y == -1) / sum(y == 1)\n",
    "print((sum(y == -1), sum(y == 1)))\n",
    "print(imbalance_ratio)\n",
    "print(f'{100/imbalance_ratio}%')"
   ]
  },
  {
   "cell_type": "code",
   "execution_count": 5,
   "metadata": {},
   "outputs": [
    {
     "name": "stdout",
     "output_type": "stream",
     "text": [
      "Spark Session created\n",
      "Parameters:\n",
      "\tspark.driver.extraClassPath: ./data/xgboost4j-spark-0.72.jar:./data/xgboost4j-0.72.jar\n",
      "\tspark.app.id: local-1556915919520\n",
      "\tspark.network.timeout: 300s\n",
      "\tspark.master: local[10]\n",
      "\tspark.executor.id: driver\n",
      "\tspark.driver.host: laptop-hantoine.wireless.concordia.ca\n",
      "\tspark.driver.port: 33121\n",
      "\tspark.app.name: Accident prediction\n",
      "\tspark.cleaner.periodicGC.interval: 5min\n",
      "\tspark.serializer: org.apache.spark.serializer.KryoSerializer\n",
      "\tspark.driver.memory: 6g\n",
      "\tspark.rdd.compress: True\n",
      "\tspark.serializer.objectStreamReset: 100\n",
      "\tspark.submit.pyFiles: \n",
      "\tspark.submit.deployMode: client\n",
      "\tspark.ui.showConsoleProgress: true\n"
     ]
    },
    {
     "data": {
      "text/plain": [
       "'3.0.0-SNAPSHOT'"
      ]
     },
     "execution_count": 5,
     "metadata": {},
     "output_type": "execute_result"
    }
   ],
   "source": [
    "%matplotlib inline\n",
    "import sys\n",
    "sys.path.insert(0, '/home/hantoine/concordia/bigdata/project/spark/python')\n",
    "from utils import init_spark\n",
    "spark = init_spark()\n",
    "\n",
    "spark.version"
   ]
  },
  {
   "cell_type": "code",
   "execution_count": 6,
   "metadata": {},
   "outputs": [],
   "source": [
    "from pyspark.ml.linalg import Vectors\n",
    "from pyspark.sql.functions import lit, monotonically_increasing_id\n",
    "\n",
    "train_examples = map(lambda r: (Vectors.dense(r[0]), 0 if int(r[1]) == -1 else 1), zip(X_train, y_train))\n",
    "train_set = spark.createDataFrame(train_examples, schema=[\"features\", \"label\"])\n",
    "test_examples = map(lambda r: (Vectors.dense(r[0]), 0 if int(r[1]) == -1 else 1), zip(X_test, y_test))\n",
    "test_set = spark.createDataFrame(test_examples, schema=[\"features\", \"label\"])\n",
    "train_set = train_set.withColumn('id', monotonically_increasing_id())\n",
    "test_set = test_set.withColumn('id', -1 * monotonically_increasing_id() - 1)"
   ]
  },
  {
   "cell_type": "code",
   "execution_count": 7,
   "metadata": {},
   "outputs": [],
   "source": [
    "from pyspark.ml.classification import RandomForestClassifier\n",
    "from pyspark.ml.evaluation import BinaryClassificationEvaluator\n",
    "from pyspark.ml.evaluation import MulticlassClassificationEvaluator\n",
    "from pyspark.ml.tuning import ParamGridBuilder, TrainValidationSplit, CrossValidator\n",
    "from pyspark.ml import Pipeline\n",
    "from random_undersampler import RandomUnderSampler\n",
    "from class_weighter import ClassWeighter\n",
    "from pyspark.sql.functions import col\n",
    "\n",
    "imbalance_ratio = (train_set.filter(col('label') == 0).count()\n",
    "                    / train_set.filter(col('label') == 1).count())\n",
    "\n",
    "rf = RandomForestClassifier(labelCol=\"label\",\n",
    "                            featuresCol=\"features\",\n",
    "                            cacheNodeIds=True,\n",
    "                            maxDepth=30,\n",
    "                            impurity='gini',\n",
    "                            featureSubsetStrategy='sqrt',\n",
    "                            minInstancesPerNode=2,\n",
    "                            numTrees=50,\n",
    "                            subsamplingRate=1.0,\n",
    "                            maxMemoryInMB=768\n",
    "                           )\n",
    "brf = RandomForestClassifier(labelCol=\"label\",\n",
    "                            featuresCol=\"features\",\n",
    "                            cacheNodeIds=True,\n",
    "                            maxDepth=30,\n",
    "                            impurity='gini',\n",
    "                            featureSubsetStrategy='sqrt',\n",
    "                            weightCol='weight',\n",
    "                            minInstancesPerNode=2,\n",
    "                            numTrees=50,\n",
    "                            subsamplingRate=1.0,\n",
    "                            maxMemoryInMB=768\n",
    "                           )\n",
    "cw = ClassWeighter().setClassWeight([1/imbalance_ratio, 1.0])\n",
    "ru = (RandomUnderSampler()\n",
    "      .setIndexCol('id')\n",
    "      .setTargetImbalanceRatio(1.0))\n",
    "\n",
    "pipeline_urf = Pipeline().setStages([ru, rf])\n",
    "pipeline_rf = Pipeline().setStages([rf])\n",
    "pipeline_brf = Pipeline().setStages([cw, brf])\n",
    "\n",
    "model_rf = pipeline_rf.fit(train_set)\n",
    "model_urf = pipeline_urf.fit(train_set)\n",
    "model_brf = pipeline_brf.fit(train_set)\n",
    "pred_rf = model_rf.transform(test_set)\n",
    "pred_urf = model_urf.transform(test_set)\n",
    "pred_brf = model_brf.transform(test_set)"
   ]
  },
  {
   "cell_type": "code",
   "execution_count": 8,
   "metadata": {},
   "outputs": [],
   "source": [
    "from pyspark.sql.functions import when\n",
    "y_pred_rf_sp = pred_rf.select(when(col('prediction') == 0, -1).otherwise(1)).toPandas().values\n",
    "y_pred_brf_sp = pred_brf.select(when(col('prediction') == 0, -1).otherwise(1)).toPandas().values\n",
    "y_pred_urf_sp = pred_urf.select(when(col('prediction') == 0, -1).otherwise(1)).toPandas().values"
   ]
  },
  {
   "cell_type": "code",
   "execution_count": 13,
   "metadata": {},
   "outputs": [],
   "source": [
    "from sklearn.ensemble import RandomForestClassifier\n",
    "from imblearn.ensemble import BalancedRandomForestClassifier\n",
    "rf = RandomForestClassifier(n_estimators=50, random_state=0, n_jobs=-1, max_depth=30)\n",
    "brf = BalancedRandomForestClassifier(n_estimators=50, random_state=0, n_jobs=-1, max_depth=30)\n",
    "rf.fit(X_train, y_train)\n",
    "brf.fit(X_train, y_train)\n",
    "\n",
    "y_pred_proba_rf = rf.predict_proba(X_test)\n",
    "y_pred_proba_brf = brf.predict_proba(X_test)\n",
    "y_pred_rf = rf.predict(X_test)\n",
    "y_pred_brf = brf.predict(X_test)"
   ]
  },
  {
   "cell_type": "code",
   "execution_count": 14,
   "metadata": {},
   "outputs": [],
   "source": [
    "pred_rf_il = map(lambda r: (Vectors.dense(r[0]), 0 if int(r[1]) == -1 else 1), zip(y_pred_proba_rf, y_test))\n",
    "pred_rf_il = spark.createDataFrame(pred_rf_il, schema=[\"probability\", \"label\"])\n",
    "pred_rf_il = pred_rf_il.withColumn('rawPrediction', col('probability'))\n",
    "pred_brf_il = map(lambda r: (Vectors.dense(r[0]), 0 if int(r[1]) == -1 else 1), zip(y_pred_proba_brf, y_test))\n",
    "pred_brf_il = spark.createDataFrame(pred_brf_il, schema=[\"probability\", \"label\"])\n",
    "pred_brf_il = pred_brf_il.withColumn('rawPrediction', col('probability'))"
   ]
  },
  {
   "cell_type": "code",
   "execution_count": 161,
   "metadata": {
    "scrolled": true
   },
   "outputs": [],
   "source": [
    "from random_forest import compute_threshold_dependent_metrics\n",
    "from evaluate import evaluate_binary_classifier\n",
    "from sklearn.metrics import balanced_accuracy_score\n",
    "\n",
    "results = {\n",
    "    'algo': ['imbalanced-learn rf', 'imbalanced-learn brf', 'spark brf', 'spark rf', 'spark urf'],\n",
    "    'y_preds': [y_pred_rf, y_pred_brf, y_pred_brf_sp, y_pred_rf_sp, y_pred_urf_sp],\n",
    "    'preds': [pred_rf_il, pred_brf_il, pred_brf, pred_rf, pred_urf]\n",
    "}\n",
    "results['balanced_accuracy'] = [balanced_accuracy_score(y_test, y_pred) for y_pred in results['y_preds']]\n",
    "results['AUCs'] = [evaluate_binary_classifier(pred) for pred in results['preds']]\n",
    "results['Area under PR'] = [AUCs[0] for AUCs in results['AUCs']]\n",
    "results['Area under ROC'] = [AUCs[1] for AUCs in results['AUCs']]\n",
    "metrics = [compute_threshold_dependent_metrics(spark, pred, 10) for pred in results['preds']]\n",
    "del results['AUCs']\n",
    "del results['y_preds']\n",
    "del results['preds']\n",
    "import pandas as pd\n",
    "results = pd.DataFrame(results).set_index('algo')"
   ]
  },
  {
   "cell_type": "code",
   "execution_count": 1,
   "metadata": {
    "scrolled": false
   },
   "outputs": [
    {
     "ename": "NameError",
     "evalue": "name 'results' is not defined",
     "output_type": "error",
     "traceback": [
      "\u001b[0;31m---------------------------------------------------------------------------\u001b[0m",
      "\u001b[0;31mNameError\u001b[0m                                 Traceback (most recent call last)",
      "\u001b[0;32m<ipython-input-1-d8444da3faa2>\u001b[0m in \u001b[0;36m<module>\u001b[0;34m\u001b[0m\n\u001b[0;32m----> 1\u001b[0;31m \u001b[0mprint\u001b[0m\u001b[0;34m(\u001b[0m\u001b[0mresults\u001b[0m\u001b[0;34m.\u001b[0m\u001b[0mdrop\u001b[0m\u001b[0;34m(\u001b[0m\u001b[0mcolumns\u001b[0m\u001b[0;34m=\u001b[0m\u001b[0;34m[\u001b[0m\u001b[0;34m'balanced_accuracy'\u001b[0m\u001b[0;34m]\u001b[0m\u001b[0;34m)\u001b[0m\u001b[0;34m.\u001b[0m\u001b[0mround\u001b[0m\u001b[0;34m(\u001b[0m\u001b[0;36m3\u001b[0m\u001b[0;34m)\u001b[0m\u001b[0;34m.\u001b[0m\u001b[0mto_latex\u001b[0m\u001b[0;34m(\u001b[0m\u001b[0;34m)\u001b[0m\u001b[0;34m)\u001b[0m\u001b[0;34m\u001b[0m\u001b[0;34m\u001b[0m\u001b[0m\n\u001b[0m",
      "\u001b[0;31mNameError\u001b[0m: name 'results' is not defined"
     ]
    }
   ],
   "source": [
    "print(results.drop(columns=['balanced_accuracy']).round(3).to_latex())"
   ]
  },
  {
   "cell_type": "code",
   "execution_count": 163,
   "metadata": {},
   "outputs": [
    {
     "data": {
      "text/html": [
       "<div>\n",
       "<style scoped>\n",
       "    .dataframe tbody tr th:only-of-type {\n",
       "        vertical-align: middle;\n",
       "    }\n",
       "\n",
       "    .dataframe tbody tr th {\n",
       "        vertical-align: top;\n",
       "    }\n",
       "\n",
       "    .dataframe thead th {\n",
       "        text-align: right;\n",
       "    }\n",
       "</style>\n",
       "<table border=\"1\" class=\"dataframe\">\n",
       "  <thead>\n",
       "    <tr style=\"text-align: right;\">\n",
       "      <th></th>\n",
       "      <th>Area under PR</th>\n",
       "      <th>Area under ROC</th>\n",
       "    </tr>\n",
       "    <tr>\n",
       "      <th>algo</th>\n",
       "      <th></th>\n",
       "      <th></th>\n",
       "    </tr>\n",
       "  </thead>\n",
       "  <tbody>\n",
       "    <tr>\n",
       "      <th>imbalanced-learn rf</th>\n",
       "      <td>0.759</td>\n",
       "      <td>0.932</td>\n",
       "    </tr>\n",
       "    <tr>\n",
       "      <th>imbalanced-learn brf</th>\n",
       "      <td>0.678</td>\n",
       "      <td>0.956</td>\n",
       "    </tr>\n",
       "    <tr>\n",
       "      <th>spark brf</th>\n",
       "      <td>0.684</td>\n",
       "      <td>0.960</td>\n",
       "    </tr>\n",
       "    <tr>\n",
       "      <th>spark rf</th>\n",
       "      <td>0.726</td>\n",
       "      <td>0.951</td>\n",
       "    </tr>\n",
       "    <tr>\n",
       "      <th>spark urf</th>\n",
       "      <td>0.607</td>\n",
       "      <td>0.952</td>\n",
       "    </tr>\n",
       "  </tbody>\n",
       "</table>\n",
       "</div>"
      ],
      "text/plain": [
       "                      Area under PR  Area under ROC\n",
       "algo                                               \n",
       "imbalanced-learn rf           0.759           0.932\n",
       "imbalanced-learn brf          0.678           0.956\n",
       "spark brf                     0.684           0.960\n",
       "spark rf                      0.726           0.951\n",
       "spark urf                     0.607           0.952"
      ]
     },
     "execution_count": 163,
     "metadata": {},
     "output_type": "execute_result"
    }
   ],
   "source": [
    "results.drop(columns=['balanced_accuracy']).round(3)"
   ]
  },
  {
   "cell_type": "code",
   "execution_count": 164,
   "metadata": {
    "scrolled": true
   },
   "outputs": [
    {
     "data": {
      "text/plain": [
       "Text(0, 0.5, 'Precision')"
      ]
     },
     "execution_count": 164,
     "metadata": {},
     "output_type": "execute_result"
    },
    {
     "data": {
      "image/png": "[encoded data removed]",
      "text/plain": [
       "<Figure size 432x288 with 1 Axes>"
      ]
     },
     "metadata": {
      "needs_background": "light"
     },
     "output_type": "display_data"
    }
   ],
   "source": [
    "ax = None\n",
    "ax = (metrics[2][['Recall', 'Precision']]\n",
    "      .append(pd.DataFrame({'Precision': [0.916667], 'Recall': [0.169231]}), sort=True) # with threshold at 0.9975\n",
    "      .dropna()\n",
    "      .rename(columns={'Precision': 'Spark BRF'})\n",
    "      .plot(x='Recall', y='Spark BRF'))\n",
    "ax = (metrics[3][['Recall', 'Precision']]\n",
    "      .dropna()\n",
    "      .rename(columns={'Precision': 'Spark RF'})\n",
    "      .plot(x='Recall', y='Spark RF', ax=ax))\n",
    "# ax = (metrics[4][['Recall', 'Precision']]\n",
    "#       .dropna()\n",
    "#       .rename(columns={'Precision': 'URF'})\n",
    "#       .plot(x='Recall', y='URF', ax=ax))\n",
    "ax = (metrics[1][['Recall', 'Precision']]\n",
    "      .append(pd.DataFrame({'Precision': [0.909091], 'Recall': [0.153846]})) # with threshold at 0.9975\n",
    "      .dropna()\n",
    "      .rename(columns={'Precision': 'imbalanced-learn BRF'})\n",
    "      .plot(x='Recall', y='imbalanced-learn BRF', ax=ax))\n",
    "ax = (metrics[0][['Recall', 'Precision']]\n",
    "      .dropna()\n",
    "      .rename(columns={'Precision': 'imbalanced-learn RF'})\n",
    "      .plot(x='Recall', y='imbalanced-learn RF', ax=ax))\n",
    "ax = ax.set_ylabel('Precision')\n",
    "ax"
   ]
  },
  {
   "cell_type": "code",
   "execution_count": 132,
   "metadata": {},
   "outputs": [
    {
     "data": {
      "text/plain": [
       "Text(0, 0.5, 'Recall')"
      ]
     },
     "execution_count": 132,
     "metadata": {},
     "output_type": "execute_result"
    },
    {
     "data": {
      "image/png": "[encoded data removed]",
      "text/plain": [
       "<Figure size 432x288 with 1 Axes>"
      ]
     },
     "metadata": {
      "needs_background": "light"
     },
     "output_type": "display_data"
    }
   ],
   "source": [
    "ax = (metrics[2][['Recall', 'False positive rate']]\n",
    "      .dropna()\n",
    "      .rename(columns={'Recall': 'Spark BRF'})\n",
    "      .plot(x='False positive rate', y='Spark BRF'))\n",
    "ax = (metrics[3][['Recall', 'False positive rate']]\n",
    "      .dropna()\n",
    "      .rename(columns={'Recall': 'Spark RF'})\n",
    "      .plot(x='False positive rate', y='Spark RF', ax=ax))\n",
    "# ax = (metrics[4][['Recall', 'False positive rate']]\n",
    "#       .dropna()\n",
    "#       .rename(columns={'Recall': 'URF'})\n",
    "#       .plot(x='False positive rate', y='URF', ax=ax))\n",
    "ax = (metrics[1][['Recall', 'False positive rate']]\n",
    "      .dropna()\n",
    "      .rename(columns={'Recall': 'imbalanced-learn BRF'})\n",
    "      .plot(x='False positive rate', y='imbalanced-learn BRF', ax=ax))\n",
    "ax = (metrics[0][['Recall', 'False positive rate']]\n",
    "      .dropna()\n",
    "      .rename(columns={'Recall': 'imbalanced-learn RF'})\n",
    "      .plot(x='False positive rate', y='imbalanced-learn RF', ax=ax))\n",
    "ax = ax.set_ylabel('Recall')\n",
    "ax"
   ]
  }
 ],
 "metadata": {
  "kernelspec": {
   "display_name": "accident-prediction-montreal",
   "language": "python",
   "name": "accident-prediction-montreal"
  },
  "language_info": {
   "codemirror_mode": {
    "name": "ipython",
    "version": 3
   },
   "file_extension": ".py",
   "mimetype": "text/x-python",
   "name": "python",
   "nbconvert_exporter": "python",
   "pygments_lexer": "ipython3",
   "version": "3.7.2"
  }
 },
 "nbformat": 4,
 "nbformat_minor": 2
}
